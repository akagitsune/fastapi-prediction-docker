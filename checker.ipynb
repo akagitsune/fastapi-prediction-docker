{
 "cells": [
  {
   "cell_type": "code",
   "execution_count": 1,
   "id": "f39297ad",
   "metadata": {},
   "outputs": [],
   "source": [
    "import pandas as pd\n",
    "import numpy as np\n",
    "from model.model import load_model\n",
    "import requests"
   ]
  },
  {
   "cell_type": "code",
   "execution_count": 2,
   "id": "94743306",
   "metadata": {},
   "outputs": [],
   "source": [
    "dt = pd.read_csv('model/heart.csv')\n",
    "dt['sex'] = dt['sex'].astype('object')\n",
    "dt['cp'] = dt['cp'].astype('object')\n",
    "dt['fbs'] = dt['fbs'].astype('object')\n",
    "dt['restecg'] = dt['restecg'].astype('object')\n",
    "dt['exang'] = dt['exang'].astype('object')\n",
    "dt['slope'] = dt['slope'].astype('object')\n",
    "dt['thal'] = dt['thal'].astype('object')"
   ]
  },
  {
   "cell_type": "code",
   "execution_count": 3,
   "id": "1c4d7559",
   "metadata": {},
   "outputs": [],
   "source": [
    "dt = dt.drop('target', axis=1)"
   ]
  },
  {
   "cell_type": "code",
   "execution_count": 4,
   "id": "3df0b974",
   "metadata": {},
   "outputs": [
    {
     "data": {
      "text/plain": [
       "Index(['age', 'sex', 'cp', 'trestbps', 'chol', 'fbs', 'restecg', 'thalach',\n",
       "       'exang', 'oldpeak', 'slope', 'ca', 'thal'],\n",
       "      dtype='object')"
      ]
     },
     "execution_count": 4,
     "metadata": {},
     "output_type": "execute_result"
    }
   ],
   "source": [
    "dt.columns"
   ]
  },
  {
   "cell_type": "code",
   "execution_count": 5,
   "id": "11b96767",
   "metadata": {},
   "outputs": [
    {
     "data": {
      "text/plain": [
       "age           int64\n",
       "sex          object\n",
       "cp           object\n",
       "trestbps      int64\n",
       "chol          int64\n",
       "fbs          object\n",
       "restecg      object\n",
       "thalach       int64\n",
       "exang        object\n",
       "oldpeak     float64\n",
       "slope        object\n",
       "ca            int64\n",
       "thal         object\n",
       "dtype: object"
      ]
     },
     "execution_count": 5,
     "metadata": {},
     "output_type": "execute_result"
    }
   ],
   "source": [
    "dt.dtypes"
   ]
  },
  {
   "cell_type": "markdown",
   "id": "494d4f7a",
   "metadata": {},
   "source": [
    "Функция, которая делает POST запрос"
   ]
  },
  {
   "cell_type": "code",
   "execution_count": 34,
   "id": "feb79fea",
   "metadata": {
    "scrolled": true
   },
   "outputs": [],
   "source": [
    "def get_predict_from_server(data):\n",
    "    url = 'http://127.0.0.1/predict'\n",
    "    resp = requests.post(url, json=data)\n",
    "    return resp "
   ]
  },
  {
   "cell_type": "markdown",
   "id": "7a471379",
   "metadata": {},
   "source": [
    "Все хорошо"
   ]
  },
  {
   "cell_type": "code",
   "execution_count": 44,
   "id": "74755f3a",
   "metadata": {},
   "outputs": [],
   "source": [
    "item = dt.iloc[0].to_dict()"
   ]
  },
  {
   "cell_type": "code",
   "execution_count": 45,
   "id": "9c295b70",
   "metadata": {},
   "outputs": [],
   "source": [
    "resp = get_predict_from_server(item)"
   ]
  },
  {
   "cell_type": "code",
   "execution_count": 46,
   "id": "dfe1e8df",
   "metadata": {
    "scrolled": false
   },
   "outputs": [
    {
     "data": {
      "text/plain": [
       "{'prediction': 1, 'status': 0}"
      ]
     },
     "execution_count": 46,
     "metadata": {},
     "output_type": "execute_result"
    }
   ],
   "source": [
    "resp.json()"
   ]
  },
  {
   "cell_type": "markdown",
   "id": "edcdb134",
   "metadata": {},
   "source": [
    "Неверное значение категориального признака"
   ]
  },
  {
   "cell_type": "code",
   "execution_count": 47,
   "id": "dbf1e6e7",
   "metadata": {},
   "outputs": [],
   "source": [
    "item_err_sex = dt.iloc[0].to_dict()\n",
    "item_err_sex['sex'] = 100"
   ]
  },
  {
   "cell_type": "code",
   "execution_count": 48,
   "id": "59992681",
   "metadata": {},
   "outputs": [],
   "source": [
    "resp_err_sex = get_predict_from_server(item_err_sex)"
   ]
  },
  {
   "cell_type": "code",
   "execution_count": 49,
   "id": "0bfcaede",
   "metadata": {},
   "outputs": [
    {
     "data": {
      "text/plain": [
       "{'prediction': 0, 'status': 2}"
      ]
     },
     "execution_count": 49,
     "metadata": {},
     "output_type": "execute_result"
    }
   ],
   "source": [
    "resp_err_sex.json()"
   ]
  },
  {
   "cell_type": "markdown",
   "id": "5068ef21",
   "metadata": {},
   "source": [
    "Какой-то из признаков отсутствует"
   ]
  },
  {
   "cell_type": "code",
   "execution_count": 41,
   "id": "5667d644",
   "metadata": {},
   "outputs": [
    {
     "data": {
      "text/plain": [
       "63"
      ]
     },
     "execution_count": 41,
     "metadata": {},
     "output_type": "execute_result"
    }
   ],
   "source": [
    "item_err_no_age = dt.iloc[0].to_dict()\n",
    "item_err_no_age.pop('age')"
   ]
  },
  {
   "cell_type": "code",
   "execution_count": 42,
   "id": "1eeacad9",
   "metadata": {},
   "outputs": [],
   "source": [
    "resp_err_no_age = get_predict_from_server(item_err_no_age)"
   ]
  },
  {
   "cell_type": "code",
   "execution_count": 43,
   "id": "9e903af5",
   "metadata": {},
   "outputs": [
    {
     "data": {
      "text/plain": [
       "{'detail': [{'loc': ['body', 'age'],\n",
       "   'msg': 'field required',\n",
       "   'type': 'value_error.missing'}]}"
      ]
     },
     "execution_count": 43,
     "metadata": {},
     "output_type": "execute_result"
    }
   ],
   "source": [
    "resp_err_no_age.json()"
   ]
  }
 ],
 "metadata": {
  "kernelspec": {
   "display_name": "Python 3 (ipykernel)",
   "language": "python",
   "name": "python3"
  },
  "language_info": {
   "codemirror_mode": {
    "name": "ipython",
    "version": 3
   },
   "file_extension": ".py",
   "mimetype": "text/x-python",
   "name": "python",
   "nbconvert_exporter": "python",
   "pygments_lexer": "ipython3",
   "version": "3.9.6"
  }
 },
 "nbformat": 4,
 "nbformat_minor": 5
}
